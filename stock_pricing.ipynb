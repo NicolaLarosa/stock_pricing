{
 "cells": [
  {
   "cell_type": "code",
   "execution_count": 1,
   "metadata": {},
   "outputs": [],
   "source": [
    "#import py libraries"
   ]
  },
  {
   "cell_type": "code",
   "execution_count": 57,
   "metadata": {},
   "outputs": [],
   "source": [
    "import datetime as dt\n",
    "import matplotlib.pyplot as plt\n",
    "from matplotlib import style\n",
    "from mpl_finance import candlestick_ohlc\n",
    "import matplotlib.dates as mdates\n",
    "import pandas as pd\n",
    "import pandas_datareader.data as web"
   ]
  },
  {
   "cell_type": "code",
   "execution_count": 22,
   "metadata": {},
   "outputs": [],
   "source": [
    "style.use('ggplot')"
   ]
  },
  {
   "cell_type": "code",
   "execution_count": 23,
   "metadata": {},
   "outputs": [],
   "source": [
    "#define start and end date (dataset time period)\n",
    "\n",
    "start = dt.datetime(2015,1,1)\n",
    "\n",
    "end = dt.datetime(2019,12,31)"
   ]
  },
  {
   "cell_type": "code",
   "execution_count": 24,
   "metadata": {},
   "outputs": [],
   "source": [
    "# grab american express stock prices (ticker AXP) from yahoo website from 2015 til 2019\n",
    "# \n",
    "df_axp = web.DataReader('AXP','yahoo', start,end)"
   ]
  },
  {
   "cell_type": "code",
   "execution_count": 25,
   "metadata": {},
   "outputs": [
    {
     "data": {
      "text/html": [
       "<div>\n",
       "<style scoped>\n",
       "    .dataframe tbody tr th:only-of-type {\n",
       "        vertical-align: middle;\n",
       "    }\n",
       "\n",
       "    .dataframe tbody tr th {\n",
       "        vertical-align: top;\n",
       "    }\n",
       "\n",
       "    .dataframe thead th {\n",
       "        text-align: right;\n",
       "    }\n",
       "</style>\n",
       "<table border=\"1\" class=\"dataframe\">\n",
       "  <thead>\n",
       "    <tr style=\"text-align: right;\">\n",
       "      <th></th>\n",
       "      <th>High</th>\n",
       "      <th>Low</th>\n",
       "      <th>Open</th>\n",
       "      <th>Close</th>\n",
       "      <th>Volume</th>\n",
       "      <th>Adj Close</th>\n",
       "    </tr>\n",
       "    <tr>\n",
       "      <th>Date</th>\n",
       "      <th></th>\n",
       "      <th></th>\n",
       "      <th></th>\n",
       "      <th></th>\n",
       "      <th></th>\n",
       "      <th></th>\n",
       "    </tr>\n",
       "  </thead>\n",
       "  <tbody>\n",
       "    <tr>\n",
       "      <th>2015-01-02</th>\n",
       "      <td>93.940002</td>\n",
       "      <td>92.139999</td>\n",
       "      <td>93.169998</td>\n",
       "      <td>93.019997</td>\n",
       "      <td>2437500.0</td>\n",
       "      <td>85.268341</td>\n",
       "    </tr>\n",
       "    <tr>\n",
       "      <th>2015-01-05</th>\n",
       "      <td>92.779999</td>\n",
       "      <td>90.320000</td>\n",
       "      <td>92.459999</td>\n",
       "      <td>90.559998</td>\n",
       "      <td>3469600.0</td>\n",
       "      <td>83.013344</td>\n",
       "    </tr>\n",
       "    <tr>\n",
       "      <th>2015-01-06</th>\n",
       "      <td>90.900002</td>\n",
       "      <td>87.940002</td>\n",
       "      <td>90.790001</td>\n",
       "      <td>88.629997</td>\n",
       "      <td>4800300.0</td>\n",
       "      <td>81.244171</td>\n",
       "    </tr>\n",
       "    <tr>\n",
       "      <th>2015-01-07</th>\n",
       "      <td>91.010002</td>\n",
       "      <td>89.529999</td>\n",
       "      <td>91.010002</td>\n",
       "      <td>90.300003</td>\n",
       "      <td>5665200.0</td>\n",
       "      <td>83.018562</td>\n",
       "    </tr>\n",
       "    <tr>\n",
       "      <th>2015-01-08</th>\n",
       "      <td>91.809998</td>\n",
       "      <td>91.000000</td>\n",
       "      <td>91.440002</td>\n",
       "      <td>91.580002</td>\n",
       "      <td>3774200.0</td>\n",
       "      <td>84.195335</td>\n",
       "    </tr>\n",
       "  </tbody>\n",
       "</table>\n",
       "</div>"
      ],
      "text/plain": [
       "                 High        Low       Open      Close     Volume  Adj Close\n",
       "Date                                                                        \n",
       "2015-01-02  93.940002  92.139999  93.169998  93.019997  2437500.0  85.268341\n",
       "2015-01-05  92.779999  90.320000  92.459999  90.559998  3469600.0  83.013344\n",
       "2015-01-06  90.900002  87.940002  90.790001  88.629997  4800300.0  81.244171\n",
       "2015-01-07  91.010002  89.529999  91.010002  90.300003  5665200.0  83.018562\n",
       "2015-01-08  91.809998  91.000000  91.440002  91.580002  3774200.0  84.195335"
      ]
     },
     "execution_count": 25,
     "metadata": {},
     "output_type": "execute_result"
    }
   ],
   "source": [
    "# analyze few raws of the downloaded data\n",
    "df_axp.head()"
   ]
  },
  {
   "cell_type": "code",
   "execution_count": 26,
   "metadata": {},
   "outputs": [
    {
     "data": {
      "text/plain": [
       "pandas.core.frame.DataFrame"
      ]
     },
     "execution_count": 26,
     "metadata": {},
     "output_type": "execute_result"
    }
   ],
   "source": [
    "# this is a pandas Data Frame where Date is the index\n",
    "type(df_axp)"
   ]
  },
  {
   "cell_type": "code",
   "execution_count": 30,
   "metadata": {},
   "outputs": [
    {
     "data": {
      "image/png": "[encoded data removed]",
      "text/plain": [
       "<Figure size 432x288 with 1 Axes>"
      ]
     },
     "metadata": {},
     "output_type": "display_data"
    }
   ],
   "source": [
    "#data visualization\n",
    "df_axp.plot()\n",
    "plt.title('Stock prices')\n",
    "plt.ylabel('prices')\n",
    "plt.show()"
   ]
  },
  {
   "cell_type": "code",
   "execution_count": 33,
   "metadata": {},
   "outputs": [],
   "source": [
    "# computing 100 moving average: takes 99 prios prices create an average of those prices (using rolling function)\n",
    "\n",
    "df_axp['100ma'] =  df_axp['Adj Close'].rolling(window = 100).mean()\n",
    "# drop the rows where the moving avg is null (because of there is no prices before. 100 days will be dropped)\n",
    "df_axp.dropna(inplace = True)"
   ]
  },
  {
   "cell_type": "code",
   "execution_count": 34,
   "metadata": {},
   "outputs": [
    {
     "data": {
      "text/html": [
       "<div>\n",
       "<style scoped>\n",
       "    .dataframe tbody tr th:only-of-type {\n",
       "        vertical-align: middle;\n",
       "    }\n",
       "\n",
       "    .dataframe tbody tr th {\n",
       "        vertical-align: top;\n",
       "    }\n",
       "\n",
       "    .dataframe thead th {\n",
       "        text-align: right;\n",
       "    }\n",
       "</style>\n",
       "<table border=\"1\" class=\"dataframe\">\n",
       "  <thead>\n",
       "    <tr style=\"text-align: right;\">\n",
       "      <th></th>\n",
       "      <th>High</th>\n",
       "      <th>Low</th>\n",
       "      <th>Open</th>\n",
       "      <th>Close</th>\n",
       "      <th>Volume</th>\n",
       "      <th>Adj Close</th>\n",
       "      <th>100ma</th>\n",
       "    </tr>\n",
       "    <tr>\n",
       "      <th>Date</th>\n",
       "      <th></th>\n",
       "      <th></th>\n",
       "      <th></th>\n",
       "      <th></th>\n",
       "      <th></th>\n",
       "      <th></th>\n",
       "      <th></th>\n",
       "    </tr>\n",
       "  </thead>\n",
       "  <tbody>\n",
       "    <tr>\n",
       "      <th>2015-05-27</th>\n",
       "      <td>80.629997</td>\n",
       "      <td>79.839996</td>\n",
       "      <td>80.449997</td>\n",
       "      <td>80.110001</td>\n",
       "      <td>5105100.0</td>\n",
       "      <td>73.896393</td>\n",
       "      <td>75.025117</td>\n",
       "    </tr>\n",
       "    <tr>\n",
       "      <th>2015-05-28</th>\n",
       "      <td>80.250000</td>\n",
       "      <td>79.879997</td>\n",
       "      <td>79.970001</td>\n",
       "      <td>80.089996</td>\n",
       "      <td>4443000.0</td>\n",
       "      <td>73.877960</td>\n",
       "      <td>74.911213</td>\n",
       "    </tr>\n",
       "    <tr>\n",
       "      <th>2015-05-29</th>\n",
       "      <td>80.099998</td>\n",
       "      <td>79.580002</td>\n",
       "      <td>80.040001</td>\n",
       "      <td>79.720001</td>\n",
       "      <td>7385100.0</td>\n",
       "      <td>73.536636</td>\n",
       "      <td>74.816446</td>\n",
       "    </tr>\n",
       "    <tr>\n",
       "      <th>2015-06-01</th>\n",
       "      <td>80.169998</td>\n",
       "      <td>78.949997</td>\n",
       "      <td>79.940002</td>\n",
       "      <td>79.470001</td>\n",
       "      <td>4716900.0</td>\n",
       "      <td>73.306030</td>\n",
       "      <td>74.737065</td>\n",
       "    </tr>\n",
       "    <tr>\n",
       "      <th>2015-06-02</th>\n",
       "      <td>80.269997</td>\n",
       "      <td>79.180000</td>\n",
       "      <td>79.260002</td>\n",
       "      <td>79.989998</td>\n",
       "      <td>4197300.0</td>\n",
       "      <td>73.785683</td>\n",
       "      <td>74.644736</td>\n",
       "    </tr>\n",
       "  </tbody>\n",
       "</table>\n",
       "</div>"
      ],
      "text/plain": [
       "                 High        Low       Open      Close     Volume  Adj Close  \\\n",
       "Date                                                                           \n",
       "2015-05-27  80.629997  79.839996  80.449997  80.110001  5105100.0  73.896393   \n",
       "2015-05-28  80.250000  79.879997  79.970001  80.089996  4443000.0  73.877960   \n",
       "2015-05-29  80.099998  79.580002  80.040001  79.720001  7385100.0  73.536636   \n",
       "2015-06-01  80.169998  78.949997  79.940002  79.470001  4716900.0  73.306030   \n",
       "2015-06-02  80.269997  79.180000  79.260002  79.989998  4197300.0  73.785683   \n",
       "\n",
       "                100ma  \n",
       "Date                   \n",
       "2015-05-27  75.025117  \n",
       "2015-05-28  74.911213  \n",
       "2015-05-29  74.816446  \n",
       "2015-06-01  74.737065  \n",
       "2015-06-02  74.644736  "
      ]
     },
     "execution_count": 34,
     "metadata": {},
     "output_type": "execute_result"
    }
   ],
   "source": [
    "df_axp.head()"
   ]
  },
  {
   "cell_type": "code",
   "execution_count": 62,
   "metadata": {},
   "outputs": [
    {
     "data": {
      "image/png": "[encoded data removed]",
      "text/plain": [
       "<Figure size 432x288 with 2 Axes>"
      ]
     },
     "metadata": {},
     "output_type": "display_data"
    }
   ],
   "source": [
    "# plot the Adj Close, 100ma and Volume trends in order to compare them\n",
    "ax1 = plt.subplot2grid((6,1),(0,0),rowspan = 5, colspan = 1)\n",
    "ax2 = plt.subplot2grid((6,1),(5,0),rowspan = 1, colspan = 1, sharex = ax1)\n",
    "\n",
    "ax1.plot(df_axp.index,df_axp['Adj Close'], label = 'Adj Close')\n",
    "ax1.plot(df_axp.index,df_axp['100ma'], label = '100 Moving AVG')\n",
    "ax2.bar(df_axp.index,df_axp['Volume'], label = 'Volume')\n",
    "plt.suptitle('Adj Close, 100ma, Volume trends')\n",
    "\n",
    "plt.show()"
   ]
  },
  {
   "cell_type": "code",
   "execution_count": null,
   "metadata": {},
   "outputs": [],
   "source": [
    "# Resample AXP stock prices based on every 10 days of data"
   ]
  },
  {
   "cell_type": "code",
   "execution_count": 47,
   "metadata": {},
   "outputs": [],
   "source": [
    "df_axp_ohlc = df_axp['Adj Close'].resample('10D').ohlc()\n",
    "\n",
    "df_axp_volume = df_axp['Volume'].resample('10D').sum()"
   ]
  },
  {
   "cell_type": "code",
   "execution_count": 48,
   "metadata": {},
   "outputs": [
    {
     "data": {
      "text/html": [
       "<div>\n",
       "<style scoped>\n",
       "    .dataframe tbody tr th:only-of-type {\n",
       "        vertical-align: middle;\n",
       "    }\n",
       "\n",
       "    .dataframe tbody tr th {\n",
       "        vertical-align: top;\n",
       "    }\n",
       "\n",
       "    .dataframe thead th {\n",
       "        text-align: right;\n",
       "    }\n",
       "</style>\n",
       "<table border=\"1\" class=\"dataframe\">\n",
       "  <thead>\n",
       "    <tr style=\"text-align: right;\">\n",
       "      <th></th>\n",
       "      <th>open</th>\n",
       "      <th>high</th>\n",
       "      <th>low</th>\n",
       "      <th>close</th>\n",
       "    </tr>\n",
       "    <tr>\n",
       "      <th>Date</th>\n",
       "      <th></th>\n",
       "      <th></th>\n",
       "      <th></th>\n",
       "      <th></th>\n",
       "    </tr>\n",
       "  </thead>\n",
       "  <tbody>\n",
       "    <tr>\n",
       "      <th>2015-05-27</th>\n",
       "      <td>73.896393</td>\n",
       "      <td>74.348412</td>\n",
       "      <td>73.204575</td>\n",
       "      <td>73.232262</td>\n",
       "    </tr>\n",
       "    <tr>\n",
       "      <th>2015-06-06</th>\n",
       "      <td>72.697235</td>\n",
       "      <td>74.071678</td>\n",
       "      <td>72.697235</td>\n",
       "      <td>73.103104</td>\n",
       "    </tr>\n",
       "    <tr>\n",
       "      <th>2015-06-16</th>\n",
       "      <td>73.204575</td>\n",
       "      <td>75.049461</td>\n",
       "      <td>73.204575</td>\n",
       "      <td>73.684250</td>\n",
       "    </tr>\n",
       "    <tr>\n",
       "      <th>2015-06-26</th>\n",
       "      <td>73.684250</td>\n",
       "      <td>73.684250</td>\n",
       "      <td>71.765579</td>\n",
       "      <td>72.413666</td>\n",
       "    </tr>\n",
       "    <tr>\n",
       "      <th>2015-07-06</th>\n",
       "      <td>71.839653</td>\n",
       "      <td>73.117363</td>\n",
       "      <td>70.302673</td>\n",
       "      <td>72.719231</td>\n",
       "    </tr>\n",
       "  </tbody>\n",
       "</table>\n",
       "</div>"
      ],
      "text/plain": [
       "                 open       high        low      close\n",
       "Date                                                  \n",
       "2015-05-27  73.896393  74.348412  73.204575  73.232262\n",
       "2015-06-06  72.697235  74.071678  72.697235  73.103104\n",
       "2015-06-16  73.204575  75.049461  73.204575  73.684250\n",
       "2015-06-26  73.684250  73.684250  71.765579  72.413666\n",
       "2015-07-06  71.839653  73.117363  70.302673  72.719231"
      ]
     },
     "execution_count": 48,
     "metadata": {},
     "output_type": "execute_result"
    }
   ],
   "source": [
    "df_axp_ohlc.head()"
   ]
  },
  {
   "cell_type": "code",
   "execution_count": 50,
   "metadata": {},
   "outputs": [
    {
     "data": {
      "text/plain": [
       "Date\n",
       "2015-05-27    40423900.0\n",
       "2015-06-06    31451500.0\n",
       "2015-06-16    54759000.0\n",
       "2015-06-26    41990600.0\n",
       "2015-07-06    36952000.0\n",
       "Freq: 10D, Name: Volume, dtype: float64"
      ]
     },
     "execution_count": 50,
     "metadata": {},
     "output_type": "execute_result"
    }
   ],
   "source": [
    "df_axp_volume.head()"
   ]
  },
  {
   "cell_type": "code",
   "execution_count": null,
   "metadata": {},
   "outputs": [],
   "source": [
    "# Plotting a candle stick chart"
   ]
  },
  {
   "cell_type": "code",
   "execution_count": 58,
   "metadata": {},
   "outputs": [
    {
     "data": {
      "text/html": [
       "<div>\n",
       "<style scoped>\n",
       "    .dataframe tbody tr th:only-of-type {\n",
       "        vertical-align: middle;\n",
       "    }\n",
       "\n",
       "    .dataframe tbody tr th {\n",
       "        vertical-align: top;\n",
       "    }\n",
       "\n",
       "    .dataframe thead th {\n",
       "        text-align: right;\n",
       "    }\n",
       "</style>\n",
       "<table border=\"1\" class=\"dataframe\">\n",
       "  <thead>\n",
       "    <tr style=\"text-align: right;\">\n",
       "      <th></th>\n",
       "      <th>Date</th>\n",
       "      <th>open</th>\n",
       "      <th>high</th>\n",
       "      <th>low</th>\n",
       "      <th>close</th>\n",
       "    </tr>\n",
       "  </thead>\n",
       "  <tbody>\n",
       "    <tr>\n",
       "      <th>0</th>\n",
       "      <td>2015-05-27</td>\n",
       "      <td>73.896393</td>\n",
       "      <td>74.348412</td>\n",
       "      <td>73.204575</td>\n",
       "      <td>73.232262</td>\n",
       "    </tr>\n",
       "    <tr>\n",
       "      <th>1</th>\n",
       "      <td>2015-06-06</td>\n",
       "      <td>72.697235</td>\n",
       "      <td>74.071678</td>\n",
       "      <td>72.697235</td>\n",
       "      <td>73.103104</td>\n",
       "    </tr>\n",
       "    <tr>\n",
       "      <th>2</th>\n",
       "      <td>2015-06-16</td>\n",
       "      <td>73.204575</td>\n",
       "      <td>75.049461</td>\n",
       "      <td>73.204575</td>\n",
       "      <td>73.684250</td>\n",
       "    </tr>\n",
       "    <tr>\n",
       "      <th>3</th>\n",
       "      <td>2015-06-26</td>\n",
       "      <td>73.684250</td>\n",
       "      <td>73.684250</td>\n",
       "      <td>71.765579</td>\n",
       "      <td>72.413666</td>\n",
       "    </tr>\n",
       "    <tr>\n",
       "      <th>4</th>\n",
       "      <td>2015-07-06</td>\n",
       "      <td>71.839653</td>\n",
       "      <td>73.117363</td>\n",
       "      <td>70.302673</td>\n",
       "      <td>72.719231</td>\n",
       "    </tr>\n",
       "  </tbody>\n",
       "</table>\n",
       "</div>"
      ],
      "text/plain": [
       "        Date       open       high        low      close\n",
       "0 2015-05-27  73.896393  74.348412  73.204575  73.232262\n",
       "1 2015-06-06  72.697235  74.071678  72.697235  73.103104\n",
       "2 2015-06-16  73.204575  75.049461  73.204575  73.684250\n",
       "3 2015-06-26  73.684250  73.684250  71.765579  72.413666\n",
       "4 2015-07-06  71.839653  73.117363  70.302673  72.719231"
      ]
     },
     "execution_count": 58,
     "metadata": {},
     "output_type": "execute_result"
    }
   ],
   "source": [
    "# reset index of df_axp_ohlc\n",
    "df_axp_ohlc.reset_index(inplace=True)\n",
    "df_axp_ohlc.head()"
   ]
  },
  {
   "cell_type": "code",
   "execution_count": 59,
   "metadata": {},
   "outputs": [
    {
     "data": {
      "text/html": [
       "<div>\n",
       "<style scoped>\n",
       "    .dataframe tbody tr th:only-of-type {\n",
       "        vertical-align: middle;\n",
       "    }\n",
       "\n",
       "    .dataframe tbody tr th {\n",
       "        vertical-align: top;\n",
       "    }\n",
       "\n",
       "    .dataframe thead th {\n",
       "        text-align: right;\n",
       "    }\n",
       "</style>\n",
       "<table border=\"1\" class=\"dataframe\">\n",
       "  <thead>\n",
       "    <tr style=\"text-align: right;\">\n",
       "      <th></th>\n",
       "      <th>Date</th>\n",
       "      <th>open</th>\n",
       "      <th>high</th>\n",
       "      <th>low</th>\n",
       "      <th>close</th>\n",
       "    </tr>\n",
       "  </thead>\n",
       "  <tbody>\n",
       "    <tr>\n",
       "      <th>0</th>\n",
       "      <td>735745.0</td>\n",
       "      <td>73.896393</td>\n",
       "      <td>74.348412</td>\n",
       "      <td>73.204575</td>\n",
       "      <td>73.232262</td>\n",
       "    </tr>\n",
       "    <tr>\n",
       "      <th>1</th>\n",
       "      <td>735755.0</td>\n",
       "      <td>72.697235</td>\n",
       "      <td>74.071678</td>\n",
       "      <td>72.697235</td>\n",
       "      <td>73.103104</td>\n",
       "    </tr>\n",
       "    <tr>\n",
       "      <th>2</th>\n",
       "      <td>735765.0</td>\n",
       "      <td>73.204575</td>\n",
       "      <td>75.049461</td>\n",
       "      <td>73.204575</td>\n",
       "      <td>73.684250</td>\n",
       "    </tr>\n",
       "    <tr>\n",
       "      <th>3</th>\n",
       "      <td>735775.0</td>\n",
       "      <td>73.684250</td>\n",
       "      <td>73.684250</td>\n",
       "      <td>71.765579</td>\n",
       "      <td>72.413666</td>\n",
       "    </tr>\n",
       "    <tr>\n",
       "      <th>4</th>\n",
       "      <td>735785.0</td>\n",
       "      <td>71.839653</td>\n",
       "      <td>73.117363</td>\n",
       "      <td>70.302673</td>\n",
       "      <td>72.719231</td>\n",
       "    </tr>\n",
       "  </tbody>\n",
       "</table>\n",
       "</div>"
      ],
      "text/plain": [
       "       Date       open       high        low      close\n",
       "0  735745.0  73.896393  74.348412  73.204575  73.232262\n",
       "1  735755.0  72.697235  74.071678  72.697235  73.103104\n",
       "2  735765.0  73.204575  75.049461  73.204575  73.684250\n",
       "3  735775.0  73.684250  73.684250  71.765579  72.413666\n",
       "4  735785.0  71.839653  73.117363  70.302673  72.719231"
      ]
     },
     "execution_count": 59,
     "metadata": {},
     "output_type": "execute_result"
    }
   ],
   "source": [
    "## converting Date column to a numeric date format using a map function\n",
    "\n",
    "df_axp_ohlc['Date'] = df_axp_ohlc['Date'].map(mdates.date2num)\n",
    "df_axp_ohlc.head()\n"
   ]
  },
  {
   "cell_type": "code",
   "execution_count": 63,
   "metadata": {},
   "outputs": [
    {
     "data": {
      "image/png": "[encoded data removed]",
      "text/plain": [
       "<Figure size 432x288 with 2 Axes>"
      ]
     },
     "metadata": {},
     "output_type": "display_data"
    }
   ],
   "source": [
    "# Candlestick chart will condense all the price, having an ohlc chart that can show those prices in just one trend\n",
    "\n",
    "ax1 = plt.subplot2grid((6,1),(0,0),rowspan = 5, colspan = 1)\n",
    "ax2 = plt.subplot2grid((6,1),(5,0),rowspan = 1, colspan = 1, sharex = ax1)\n",
    "ax1.xaxis_date()\n",
    "\n",
    "candlestick_ohlc(ax1, df_axp_ohlc.values, width = 2, colorup = 'y')\n",
    "ax2.fill_between(df_axp_volume.index.map(mdates.date2num),df_axp_volume.values,0)\n",
    "plt.suptitle('Candlestick: Adj Close, 100ma, Volume trends')\n",
    "plt.show()"
   ]
  },
  {
   "cell_type": "code",
   "execution_count": null,
   "metadata": {},
   "outputs": [],
   "source": []
  }
 ],
 "metadata": {
  "kernelspec": {
   "display_name": "Python 3",
   "language": "python",
   "name": "python3"
  },
  "language_info": {
   "codemirror_mode": {
    "name": "ipython",
    "version": 3
   },
   "file_extension": ".py",
   "mimetype": "text/x-python",
   "name": "python",
   "nbconvert_exporter": "python",
   "pygments_lexer": "ipython3",
   "version": "3.7.1"
  }
 },
 "nbformat": 4,
 "nbformat_minor": 4
}
